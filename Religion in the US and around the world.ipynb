{
 "cells": [
  {
   "cell_type": "markdown",
   "id": "3ce8268f",
   "metadata": {},
   "source": [
    "# Religion in the US and around the world"
   ]
  },
  {
   "cell_type": "code",
   "execution_count": 1,
   "id": "441c464a",
   "metadata": {},
   "outputs": [],
   "source": [
    "import pandas as pd\n",
    "import matplotlib.pyplot as plt\n",
    "import pylab\n",
    "\n",
    "%matplotlib inline"
   ]
  },
  {
   "cell_type": "code",
   "execution_count": 2,
   "id": "3d7d03cc",
   "metadata": {},
   "outputs": [],
   "source": [
    "'''Designate the first 2 dataframes'''\n",
    "national = pd.read_csv('C:/Users/werent4/Desktop/coursera project/national.csv')\n",
    "globaal = pd.read_csv('C:/Users/werent4/Desktop/coursera project/global.csv')"
   ]
  },
  {
   "cell_type": "code",
   "execution_count": 3,
   "id": "e30e81c8",
   "metadata": {},
   "outputs": [],
   "source": [
    "'''Selecting the required lines'''\n",
    "national = national[national['code'] == 'USA']"
   ]
  },
  {
   "cell_type": "code",
   "execution_count": 4,
   "id": "bd2f8e85",
   "metadata": {},
   "outputs": [],
   "source": [
    "national = national[['year','christianity_all','judaism_all','islam_all','religion_all','population']]\n"
   ]
  },
  {
   "cell_type": "code",
   "execution_count": 5,
   "id": "62518083",
   "metadata": {},
   "outputs": [],
   "source": [
    "data = {'Year':globaal.year, 'world_population':globaal.world_population}\n",
    "world_population = pd.DataFrame(data = data)"
   ]
  },
  {
   "cell_type": "code",
   "execution_count": 6,
   "id": "9ba5b3c5",
   "metadata": {},
   "outputs": [],
   "source": [
    "globaal = globaal[['year','christianity_all','judaism_all','islam_all','religion_all']]"
   ]
  },
  {
   "cell_type": "markdown",
   "id": "c248444d",
   "metadata": {},
   "source": [
    "# Let's look at dataframes"
   ]
  },
  {
   "cell_type": "code",
   "execution_count": 7,
   "id": "f92eaf69",
   "metadata": {},
   "outputs": [
    {
     "data": {
      "text/html": [
       "<div>\n",
       "<style scoped>\n",
       "    .dataframe tbody tr th:only-of-type {\n",
       "        vertical-align: middle;\n",
       "    }\n",
       "\n",
       "    .dataframe tbody tr th {\n",
       "        vertical-align: top;\n",
       "    }\n",
       "\n",
       "    .dataframe thead th {\n",
       "        text-align: right;\n",
       "    }\n",
       "</style>\n",
       "<table border=\"1\" class=\"dataframe\">\n",
       "  <thead>\n",
       "    <tr style=\"text-align: right;\">\n",
       "      <th></th>\n",
       "      <th>year</th>\n",
       "      <th>christianity_all</th>\n",
       "      <th>judaism_all</th>\n",
       "      <th>islam_all</th>\n",
       "      <th>religion_all</th>\n",
       "      <th>population</th>\n",
       "    </tr>\n",
       "  </thead>\n",
       "  <tbody>\n",
       "    <tr>\n",
       "      <th>0</th>\n",
       "      <td>1945</td>\n",
       "      <td>110265118</td>\n",
       "      <td>4641182</td>\n",
       "      <td>0</td>\n",
       "      <td>139382062</td>\n",
       "      <td>139928000</td>\n",
       "    </tr>\n",
       "    <tr>\n",
       "      <th>1</th>\n",
       "      <td>1950</td>\n",
       "      <td>122994019</td>\n",
       "      <td>6090837</td>\n",
       "      <td>0</td>\n",
       "      <td>151652986</td>\n",
       "      <td>152271008</td>\n",
       "    </tr>\n",
       "    <tr>\n",
       "      <th>2</th>\n",
       "      <td>1955</td>\n",
       "      <td>134001770</td>\n",
       "      <td>5333332</td>\n",
       "      <td>0</td>\n",
       "      <td>162728815</td>\n",
       "      <td>165931000</td>\n",
       "    </tr>\n",
       "    <tr>\n",
       "      <th>3</th>\n",
       "      <td>1960</td>\n",
       "      <td>150234347</td>\n",
       "      <td>5500000</td>\n",
       "      <td>0</td>\n",
       "      <td>179294703</td>\n",
       "      <td>180671000</td>\n",
       "    </tr>\n",
       "    <tr>\n",
       "      <th>4</th>\n",
       "      <td>1965</td>\n",
       "      <td>167515758</td>\n",
       "      <td>5600000</td>\n",
       "      <td>0</td>\n",
       "      <td>194049012</td>\n",
       "      <td>194631000</td>\n",
       "    </tr>\n",
       "    <tr>\n",
       "      <th>5</th>\n",
       "      <td>1970</td>\n",
       "      <td>172867051</td>\n",
       "      <td>6150000</td>\n",
       "      <td>0</td>\n",
       "      <td>200695751</td>\n",
       "      <td>200706000</td>\n",
       "    </tr>\n",
       "    <tr>\n",
       "      <th>6</th>\n",
       "      <td>1975</td>\n",
       "      <td>182810532</td>\n",
       "      <td>6700000</td>\n",
       "      <td>0</td>\n",
       "      <td>215701628</td>\n",
       "      <td>215943000</td>\n",
       "    </tr>\n",
       "    <tr>\n",
       "      <th>7</th>\n",
       "      <td>1980</td>\n",
       "      <td>186649864</td>\n",
       "      <td>7259000</td>\n",
       "      <td>2666560</td>\n",
       "      <td>225891446</td>\n",
       "      <td>227726000</td>\n",
       "    </tr>\n",
       "    <tr>\n",
       "      <th>8</th>\n",
       "      <td>1985</td>\n",
       "      <td>199787782</td>\n",
       "      <td>7510000</td>\n",
       "      <td>2484858</td>\n",
       "      <td>238168864</td>\n",
       "      <td>238466000</td>\n",
       "    </tr>\n",
       "    <tr>\n",
       "      <th>9</th>\n",
       "      <td>1990</td>\n",
       "      <td>214425162</td>\n",
       "      <td>5508504</td>\n",
       "      <td>2294757</td>\n",
       "      <td>249744836</td>\n",
       "      <td>249907000</td>\n",
       "    </tr>\n",
       "    <tr>\n",
       "      <th>10</th>\n",
       "      <td>1995</td>\n",
       "      <td>215593975</td>\n",
       "      <td>5259463</td>\n",
       "      <td>2425377</td>\n",
       "      <td>262064532</td>\n",
       "      <td>262755000</td>\n",
       "    </tr>\n",
       "    <tr>\n",
       "      <th>11</th>\n",
       "      <td>2000</td>\n",
       "      <td>219818305</td>\n",
       "      <td>5010424</td>\n",
       "      <td>2555997</td>\n",
       "      <td>278248108</td>\n",
       "      <td>278357000</td>\n",
       "    </tr>\n",
       "    <tr>\n",
       "      <th>12</th>\n",
       "      <td>2005</td>\n",
       "      <td>226464805</td>\n",
       "      <td>5536622</td>\n",
       "      <td>2685374</td>\n",
       "      <td>295720819</td>\n",
       "      <td>295896000</td>\n",
       "    </tr>\n",
       "    <tr>\n",
       "      <th>13</th>\n",
       "      <td>2010</td>\n",
       "      <td>233111307</td>\n",
       "      <td>5942248</td>\n",
       "      <td>2814750</td>\n",
       "      <td>311953794</td>\n",
       "      <td>312750000</td>\n",
       "    </tr>\n",
       "  </tbody>\n",
       "</table>\n",
       "</div>"
      ],
      "text/plain": [
       "    year  christianity_all  judaism_all  islam_all  religion_all  population\n",
       "0   1945         110265118      4641182          0     139382062   139928000\n",
       "1   1950         122994019      6090837          0     151652986   152271008\n",
       "2   1955         134001770      5333332          0     162728815   165931000\n",
       "3   1960         150234347      5500000          0     179294703   180671000\n",
       "4   1965         167515758      5600000          0     194049012   194631000\n",
       "5   1970         172867051      6150000          0     200695751   200706000\n",
       "6   1975         182810532      6700000          0     215701628   215943000\n",
       "7   1980         186649864      7259000    2666560     225891446   227726000\n",
       "8   1985         199787782      7510000    2484858     238168864   238466000\n",
       "9   1990         214425162      5508504    2294757     249744836   249907000\n",
       "10  1995         215593975      5259463    2425377     262064532   262755000\n",
       "11  2000         219818305      5010424    2555997     278248108   278357000\n",
       "12  2005         226464805      5536622    2685374     295720819   295896000\n",
       "13  2010         233111307      5942248    2814750     311953794   312750000"
      ]
     },
     "execution_count": 7,
     "metadata": {},
     "output_type": "execute_result"
    }
   ],
   "source": [
    "national"
   ]
  },
  {
   "cell_type": "code",
   "execution_count": 8,
   "id": "b50f136d",
   "metadata": {},
   "outputs": [
    {
     "data": {
      "text/html": [
       "<div>\n",
       "<style scoped>\n",
       "    .dataframe tbody tr th:only-of-type {\n",
       "        vertical-align: middle;\n",
       "    }\n",
       "\n",
       "    .dataframe tbody tr th {\n",
       "        vertical-align: top;\n",
       "    }\n",
       "\n",
       "    .dataframe thead th {\n",
       "        text-align: right;\n",
       "    }\n",
       "</style>\n",
       "<table border=\"1\" class=\"dataframe\">\n",
       "  <thead>\n",
       "    <tr style=\"text-align: right;\">\n",
       "      <th></th>\n",
       "      <th>year</th>\n",
       "      <th>christianity_all</th>\n",
       "      <th>judaism_all</th>\n",
       "      <th>islam_all</th>\n",
       "      <th>religion_all</th>\n",
       "    </tr>\n",
       "  </thead>\n",
       "  <tbody>\n",
       "    <tr>\n",
       "      <th>0</th>\n",
       "      <td>1945</td>\n",
       "      <td>701350290</td>\n",
       "      <td>12009400</td>\n",
       "      <td>130760281</td>\n",
       "      <td>1636502751</td>\n",
       "    </tr>\n",
       "    <tr>\n",
       "      <th>1</th>\n",
       "      <td>1950</td>\n",
       "      <td>696480122</td>\n",
       "      <td>13698294</td>\n",
       "      <td>294121067</td>\n",
       "      <td>2255911264</td>\n",
       "    </tr>\n",
       "    <tr>\n",
       "      <th>2</th>\n",
       "      <td>1955</td>\n",
       "      <td>836002102</td>\n",
       "      <td>12986204</td>\n",
       "      <td>344072007</td>\n",
       "      <td>2565905174</td>\n",
       "    </tr>\n",
       "    <tr>\n",
       "      <th>3</th>\n",
       "      <td>1960</td>\n",
       "      <td>966967595</td>\n",
       "      <td>13728856</td>\n",
       "      <td>435123088</td>\n",
       "      <td>2960719583</td>\n",
       "    </tr>\n",
       "    <tr>\n",
       "      <th>4</th>\n",
       "      <td>1965</td>\n",
       "      <td>1074713786</td>\n",
       "      <td>14253679</td>\n",
       "      <td>514634057</td>\n",
       "      <td>3302068346</td>\n",
       "    </tr>\n",
       "    <tr>\n",
       "      <th>5</th>\n",
       "      <td>1970</td>\n",
       "      <td>1176605676</td>\n",
       "      <td>14833409</td>\n",
       "      <td>592342288</td>\n",
       "      <td>3699555220</td>\n",
       "    </tr>\n",
       "    <tr>\n",
       "      <th>6</th>\n",
       "      <td>1975</td>\n",
       "      <td>1300116609</td>\n",
       "      <td>15914548</td>\n",
       "      <td>663674348</td>\n",
       "      <td>4071736010</td>\n",
       "    </tr>\n",
       "    <tr>\n",
       "      <th>7</th>\n",
       "      <td>1980</td>\n",
       "      <td>1392078609</td>\n",
       "      <td>16606995</td>\n",
       "      <td>647139477</td>\n",
       "      <td>4313376757</td>\n",
       "    </tr>\n",
       "    <tr>\n",
       "      <th>8</th>\n",
       "      <td>1985</td>\n",
       "      <td>1506919051</td>\n",
       "      <td>16782995</td>\n",
       "      <td>747128591</td>\n",
       "      <td>4720267965</td>\n",
       "    </tr>\n",
       "    <tr>\n",
       "      <th>9</th>\n",
       "      <td>1990</td>\n",
       "      <td>1695081219</td>\n",
       "      <td>14869547</td>\n",
       "      <td>999680318</td>\n",
       "      <td>5365204736</td>\n",
       "    </tr>\n",
       "    <tr>\n",
       "      <th>10</th>\n",
       "      <td>1995</td>\n",
       "      <td>1785414969</td>\n",
       "      <td>14072306</td>\n",
       "      <td>1154990606</td>\n",
       "      <td>5718946902</td>\n",
       "    </tr>\n",
       "    <tr>\n",
       "      <th>11</th>\n",
       "      <td>2000</td>\n",
       "      <td>1890923184</td>\n",
       "      <td>13446312</td>\n",
       "      <td>1314048240</td>\n",
       "      <td>6135549678</td>\n",
       "    </tr>\n",
       "    <tr>\n",
       "      <th>12</th>\n",
       "      <td>2005</td>\n",
       "      <td>1990731467</td>\n",
       "      <td>14270328</td>\n",
       "      <td>1426454346</td>\n",
       "      <td>6493408899</td>\n",
       "    </tr>\n",
       "    <tr>\n",
       "      <th>13</th>\n",
       "      <td>2010</td>\n",
       "      <td>2111912953</td>\n",
       "      <td>14023309</td>\n",
       "      <td>1555482766</td>\n",
       "      <td>6894820787</td>\n",
       "    </tr>\n",
       "  </tbody>\n",
       "</table>\n",
       "</div>"
      ],
      "text/plain": [
       "    year  christianity_all  judaism_all   islam_all  religion_all\n",
       "0   1945         701350290     12009400   130760281    1636502751\n",
       "1   1950         696480122     13698294   294121067    2255911264\n",
       "2   1955         836002102     12986204   344072007    2565905174\n",
       "3   1960         966967595     13728856   435123088    2960719583\n",
       "4   1965        1074713786     14253679   514634057    3302068346\n",
       "5   1970        1176605676     14833409   592342288    3699555220\n",
       "6   1975        1300116609     15914548   663674348    4071736010\n",
       "7   1980        1392078609     16606995   647139477    4313376757\n",
       "8   1985        1506919051     16782995   747128591    4720267965\n",
       "9   1990        1695081219     14869547   999680318    5365204736\n",
       "10  1995        1785414969     14072306  1154990606    5718946902\n",
       "11  2000        1890923184     13446312  1314048240    6135549678\n",
       "12  2005        1990731467     14270328  1426454346    6493408899\n",
       "13  2010        2111912953     14023309  1555482766    6894820787"
      ]
     },
     "execution_count": 8,
     "metadata": {},
     "output_type": "execute_result"
    }
   ],
   "source": [
    "globaal"
   ]
  },
  {
   "cell_type": "code",
   "execution_count": 9,
   "id": "ba18f518",
   "metadata": {},
   "outputs": [
    {
     "data": {
      "text/html": [
       "<div>\n",
       "<style scoped>\n",
       "    .dataframe tbody tr th:only-of-type {\n",
       "        vertical-align: middle;\n",
       "    }\n",
       "\n",
       "    .dataframe tbody tr th {\n",
       "        vertical-align: top;\n",
       "    }\n",
       "\n",
       "    .dataframe thead th {\n",
       "        text-align: right;\n",
       "    }\n",
       "</style>\n",
       "<table border=\"1\" class=\"dataframe\">\n",
       "  <thead>\n",
       "    <tr style=\"text-align: right;\">\n",
       "      <th></th>\n",
       "      <th>Year</th>\n",
       "      <th>world_population</th>\n",
       "    </tr>\n",
       "  </thead>\n",
       "  <tbody>\n",
       "    <tr>\n",
       "      <th>0</th>\n",
       "      <td>1945</td>\n",
       "      <td>2250000000</td>\n",
       "    </tr>\n",
       "    <tr>\n",
       "      <th>1</th>\n",
       "      <td>1950</td>\n",
       "      <td>2780296616</td>\n",
       "    </tr>\n",
       "    <tr>\n",
       "      <th>2</th>\n",
       "      <td>1955</td>\n",
       "      <td>3039433944</td>\n",
       "    </tr>\n",
       "    <tr>\n",
       "      <th>3</th>\n",
       "      <td>1960</td>\n",
       "      <td>3345409879</td>\n",
       "    </tr>\n",
       "    <tr>\n",
       "      <th>4</th>\n",
       "      <td>1965</td>\n",
       "      <td>3706601448</td>\n",
       "    </tr>\n",
       "    <tr>\n",
       "      <th>5</th>\n",
       "      <td>1970</td>\n",
       "      <td>4086387665</td>\n",
       "    </tr>\n",
       "    <tr>\n",
       "      <th>6</th>\n",
       "      <td>1975</td>\n",
       "      <td>4453863820</td>\n",
       "    </tr>\n",
       "    <tr>\n",
       "      <th>7</th>\n",
       "      <td>1980</td>\n",
       "      <td>4850224998</td>\n",
       "    </tr>\n",
       "    <tr>\n",
       "      <th>8</th>\n",
       "      <td>1985</td>\n",
       "      <td>5277725410</td>\n",
       "    </tr>\n",
       "    <tr>\n",
       "      <th>9</th>\n",
       "      <td>1990</td>\n",
       "      <td>5687011326</td>\n",
       "    </tr>\n",
       "    <tr>\n",
       "      <th>10</th>\n",
       "      <td>1995</td>\n",
       "      <td>5687011326</td>\n",
       "    </tr>\n",
       "    <tr>\n",
       "      <th>11</th>\n",
       "      <td>2000</td>\n",
       "      <td>6081002937</td>\n",
       "    </tr>\n",
       "    <tr>\n",
       "      <th>12</th>\n",
       "      <td>2005</td>\n",
       "      <td>6462181426</td>\n",
       "    </tr>\n",
       "    <tr>\n",
       "      <th>13</th>\n",
       "      <td>2010</td>\n",
       "      <td>6840423256</td>\n",
       "    </tr>\n",
       "  </tbody>\n",
       "</table>\n",
       "</div>"
      ],
      "text/plain": [
       "    Year  world_population\n",
       "0   1945        2250000000\n",
       "1   1950        2780296616\n",
       "2   1955        3039433944\n",
       "3   1960        3345409879\n",
       "4   1965        3706601448\n",
       "5   1970        4086387665\n",
       "6   1975        4453863820\n",
       "7   1980        4850224998\n",
       "8   1985        5277725410\n",
       "9   1990        5687011326\n",
       "10  1995        5687011326\n",
       "11  2000        6081002937\n",
       "12  2005        6462181426\n",
       "13  2010        6840423256"
      ]
     },
     "execution_count": 9,
     "metadata": {},
     "output_type": "execute_result"
    }
   ],
   "source": [
    "world_population"
   ]
  },
  {
   "cell_type": "markdown",
   "id": "5b098046",
   "metadata": {},
   "source": [
    "# Plotting\n"
   ]
  },
  {
   "cell_type": "markdown",
   "id": "e912a70d",
   "metadata": {},
   "source": [
    "Graph of world population"
   ]
  },
  {
   "cell_type": "code",
   "execution_count": 16,
   "id": "1c28e8a2",
   "metadata": {},
   "outputs": [
    {
     "data": {
      "text/plain": [
       "Text(0.5, 1.0, 'world_population')"
      ]
     },
     "execution_count": 16,
     "metadata": {},
     "output_type": "execute_result"
    },
    {
     "data": {
      "image/png": "[encoded data removed]",
      "text/plain": [
       "<Figure size 432x288 with 1 Axes>"
      ]
     },
     "metadata": {
      "needs_background": "light"
     },
     "output_type": "display_data"
    }
   ],
   "source": [
    "x= world_population.Year\n",
    "y= world_population.world_population\n",
    "plt.plot(x,y)\n",
    "plt.title('world_population')"
   ]
  },
  {
   "cell_type": "markdown",
   "id": "ac5eaaba",
   "metadata": {},
   "source": [
    "As we can see, the population of the world is increasin \\\\\\\n",
    "Let's check how the number of believers has changed"
   ]
  },
  {
   "cell_type": "code",
   "execution_count": 17,
   "id": "f909a7b4",
   "metadata": {},
   "outputs": [
    {
     "data": {
      "text/plain": [
       "Text(0.5, 1.0, 'Number of belivers in the world')"
      ]
     },
     "execution_count": 17,
     "metadata": {},
     "output_type": "execute_result"
    },
    {
     "data": {
      "image/png": "[encoded data removed]",
      "text/plain": [
       "<Figure size 432x288 with 1 Axes>"
      ]
     },
     "metadata": {
      "needs_background": "light"
     },
     "output_type": "display_data"
    }
   ],
   "source": [
    "x= globaal.year\n",
    "y= globaal.religion_all\n",
    "plt.plot(x,y)\n",
    "plt.title('Number of belivers in the world')"
   ]
  },
  {
   "cell_type": "markdown",
   "id": "f1052a0e",
   "metadata": {},
   "source": [
    "As we can see, the number of believers in the world is increasin"
   ]
  },
  {
   "cell_type": "markdown",
   "id": "96fc70b7",
   "metadata": {},
   "source": [
    "So, now we will look at the situation in USA"
   ]
  },
  {
   "cell_type": "code",
   "execution_count": 18,
   "id": "487a6fe3",
   "metadata": {},
   "outputs": [
    {
     "data": {
      "text/plain": [
       "Text(0.5, 1.0, 'Number of belivers in the USA')"
      ]
     },
     "execution_count": 18,
     "metadata": {},
     "output_type": "execute_result"
    },
    {
     "data": {
      "image/png": "[encoded data removed]",
      "text/plain": [
       "<Figure size 432x288 with 1 Axes>"
      ]
     },
     "metadata": {
      "needs_background": "light"
     },
     "output_type": "display_data"
    }
   ],
   "source": [
    "x= national.year\n",
    "y= national.religion_all\n",
    "plt.plot(x,y)\n",
    "plt.title('Number of belivers in the USA')"
   ]
  },
  {
   "cell_type": "markdown",
   "id": "996d5640",
   "metadata": {},
   "source": [
    "As wee can see, situation is the same"
   ]
  },
  {
   "cell_type": "markdown",
   "id": "8654cadf",
   "metadata": {},
   "source": [
    "Let's look at how different religions have evolved in the world and in the United States "
   ]
  },
  {
   "cell_type": "code",
   "execution_count": 13,
   "id": "58bc9b84",
   "metadata": {},
   "outputs": [
    {
     "data": {
      "text/plain": [
       "<Figure size 432x288 with 0 Axes>"
      ]
     },
     "execution_count": 13,
     "metadata": {},
     "output_type": "execute_result"
    },
    {
     "data": {
      "image/png": "[encoded data removed]",
      "text/plain": [
       "<Figure size 432x288 with 2 Axes>"
      ]
     },
     "metadata": {
      "needs_background": "light"
     },
     "output_type": "display_data"
    },
    {
     "data": {
      "text/plain": [
       "<Figure size 432x288 with 0 Axes>"
      ]
     },
     "metadata": {},
     "output_type": "display_data"
    }
   ],
   "source": [
    "'''For all religions in the USA'''\n",
    "pylab.subplot (1, 2, 1)\n",
    "x= national.year\n",
    "y= national.christianity_all\n",
    "y_1 = national.islam_all\n",
    "y_2 = national.judaism_all\n",
    "pylab.title (\"Religions in the USA\")\n",
    "pylab.plot(x, y, alpha=0.8, label='christianity')\n",
    "pylab.plot(x, y_1, alpha=0.8, label= 'islam')\n",
    "pylab.plot(x, y_2, alpha=0.8, label= 'judaism')\n",
    "pylab.legend()\n",
    "\n",
    "\n",
    "'''For all religions in the world'''\n",
    "pylab.subplot (1, 2, 2)\n",
    "x= globaal.year\n",
    "y= globaal.christianity_all\n",
    "y_1 = globaal.islam_all\n",
    "y_2 = globaal.judaism_all\n",
    "pylab.title (\"Religions in the world\")\n",
    "pylab.plot(x, y, alpha=0.8, label='christianity')\n",
    "pylab.plot(x, y_1, alpha=0.8, label= 'islam')\n",
    "pylab.plot(x, y_2, alpha=0.8, label= 'judaism')\n",
    "pylab.legend()\n",
    "\n",
    "pylab.figure(figsize=(6,4))"
   ]
  },
  {
   "cell_type": "markdown",
   "id": "9e9b4822",
   "metadata": {},
   "source": [
    "Let's look at the number of believers in the world and the world population by year"
   ]
  },
  {
   "cell_type": "code",
   "execution_count": 14,
   "id": "5dd9fc33",
   "metadata": {},
   "outputs": [
    {
     "data": {
      "text/plain": [
       "<Figure size 576x432 with 0 Axes>"
      ]
     },
     "execution_count": 14,
     "metadata": {},
     "output_type": "execute_result"
    },
    {
     "data": {
      "image/png": "[encoded data removed]",
      "text/plain": [
       "<Figure size 432x288 with 1 Axes>"
      ]
     },
     "metadata": {
      "needs_background": "light"
     },
     "output_type": "display_data"
    },
    {
     "data": {
      "text/plain": [
       "<Figure size 576x432 with 0 Axes>"
      ]
     },
     "metadata": {},
     "output_type": "display_data"
    }
   ],
   "source": [
    "x= globaal.year\n",
    "y= globaal.christianity_all\n",
    "y_1 = globaal.islam_all\n",
    "y_2 = globaal.judaism_all\n",
    "y_3 = world_population.world_population\n",
    "plt.title('believers in the world + pop ')\n",
    "plt.plot(x,y, label='christianity')\n",
    "plt.plot(x,y_1, label='islam')\n",
    "plt.plot(x,y_2,label='judaism')\n",
    "plt.plot(x,y_3, label= 'world_population')\n",
    "plt.legend()\n",
    "plt.figure(figsize=(8,6))\n"
   ]
  },
  {
   "cell_type": "markdown",
   "id": "3bbe09f3",
   "metadata": {},
   "source": [
    "Let's look at the same information just in USA"
   ]
  },
  {
   "cell_type": "code",
   "execution_count": 15,
   "id": "a56eb7dc",
   "metadata": {},
   "outputs": [
    {
     "data": {
      "text/plain": [
       "<Figure size 576x432 with 0 Axes>"
      ]
     },
     "execution_count": 15,
     "metadata": {},
     "output_type": "execute_result"
    },
    {
     "data": {
      "image/png": "[encoded data removed]",
      "text/plain": [
       "<Figure size 432x288 with 1 Axes>"
      ]
     },
     "metadata": {
      "needs_background": "light"
     },
     "output_type": "display_data"
    },
    {
     "data": {
      "text/plain": [
       "<Figure size 576x432 with 0 Axes>"
      ]
     },
     "metadata": {},
     "output_type": "display_data"
    }
   ],
   "source": [
    "x= national.year\n",
    "y= national.christianity_all\n",
    "y_1 = national.islam_all\n",
    "y_2 = national.judaism_all\n",
    "y_3 = national.population\n",
    "plt.title('believers in the USA + pop ')\n",
    "plt.plot(x,y, label='christianity')\n",
    "plt.plot(x,y_1, label='islam')\n",
    "plt.plot(x,y_2,label='judaism')\n",
    "plt.plot(x,y_3, label= 'population USA')\n",
    "plt.legend()\n",
    "plt.figure(figsize=(8,6))\n"
   ]
  },
  {
   "cell_type": "code",
   "execution_count": null,
   "id": "58cba58f",
   "metadata": {},
   "outputs": [],
   "source": []
  },
  {
   "cell_type": "code",
   "execution_count": null,
   "id": "e260df52",
   "metadata": {},
   "outputs": [],
   "source": []
  },
  {
   "cell_type": "code",
   "execution_count": null,
   "id": "524d399c",
   "metadata": {},
   "outputs": [],
   "source": []
  }
 ],
 "metadata": {
  "kernelspec": {
   "display_name": "Python 3 (ipykernel)",
   "language": "python",
   "name": "python3"
  },
  "language_info": {
   "codemirror_mode": {
    "name": "ipython",
    "version": 3
   },
   "file_extension": ".py",
   "mimetype": "text/x-python",
   "name": "python",
   "nbconvert_exporter": "python",
   "pygments_lexer": "ipython3",
   "version": "3.9.12"
  }
 },
 "nbformat": 4,
 "nbformat_minor": 5
}
